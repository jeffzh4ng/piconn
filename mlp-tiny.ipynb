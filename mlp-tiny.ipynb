{
 "cells": [
  {
   "cell_type": "code",
   "execution_count": 11,
   "metadata": {},
   "outputs": [
    {
     "name": "stdout",
     "output_type": "stream",
     "text": [
      "['emma', 'olivia', 'ava', 'isabella', 'sophia', 'charlotte', 'mia', 'amelia', 'harper', 'evelyn']\n"
     ]
    },
    {
     "data": {
      "text/plain": [
       "<matplotlib.image.AxesImage at 0x1105bb4d0>"
      ]
     },
     "execution_count": 11,
     "metadata": {},
     "output_type": "execute_result"
    },
    {
     "data": {
      "image/png": "[encoded data removed]",
      "text/plain": [
       "<Figure size 640x480 with 1 Axes>"
      ]
     },
     "metadata": {},
     "output_type": "display_data"
    }
   ],
   "source": [
    "# data\n",
    "from tinygrad import Tensor, TinyJit\n",
    "import matplotlib.pyplot as plt\n",
    "%matplotlib inline\n",
    "\n",
    "words = open('names.txt', 'r').read().splitlines()\n",
    "print(words[:10])\n",
    "\n",
    "# tokenize dataset\n",
    "encode = { c:i+1 for i,c in enumerate(sorted(list(set(''.join(words))))) }\n",
    "encode['.'] = 0\n",
    "decode = { i:c for c,i in encode.items() }\n",
    "\n",
    "X, Y = [], []\n",
    "for w in words:\n",
    "    w_normd = ['.'] + list(w) + ['.']\n",
    "    for x, y in zip(w_normd, w_normd[1:]):\n",
    "        X.append(encode[x])\n",
    "        Y.append(encode[y])\n",
    "\n",
    "Xe, Ye = Tensor(X).one_hot(27).float(), Tensor(Y).one_hot(27)\n",
    "plt.imshow(Xe.numpy())"
   ]
  },
  {
   "cell_type": "code",
   "execution_count": 2,
   "metadata": {},
   "outputs": [],
   "source": [
    "# model\n",
    "Tensor.manual_seed(2147483647)\n",
    "W = Tensor.randn(27, 27, requires_grad=True) # 27 logits"
   ]
  },
  {
   "cell_type": "code",
   "execution_count": 6,
   "metadata": {},
   "outputs": [
    {
     "name": "stdout",
     "output_type": "stream",
     "text": [
      "3.697216\n",
      "3.3556702\n",
      "3.135677\n",
      "2.9953113\n",
      "2.903509\n",
      "2.8366895\n",
      "2.7864623\n",
      "2.748448\n",
      "2.7199106\n",
      "2.6957235\n"
     ]
    }
   ],
   "source": [
    "# training\n",
    "@TinyJit\n",
    "def step():\n",
    "    for _ in range(10):\n",
    "        # forward\n",
    "        logits = Xe @ W # (5, 27) @ (27, 27) -> (5, 27) nn tames exponentials better than bigram (see papers)\n",
    "        counts = logits.exp()\n",
    "        probs = counts / counts.sum(1, keepdim=True) # likelihood via softmax\n",
    "        loss = -probs[Tensor.arange(len(logits)), Y].log().mean() # nll\n",
    "        print(loss.numpy())\n",
    "\n",
    "        # backward\n",
    "        W.grad = None\n",
    "        loss.backward()\n",
    "\n",
    "        # update\n",
    "        # need to detach, bc .assign rejects x st x.requires_grad=True. see tensor.py L254\n",
    "        W.assign((W - 50 * W.grad).detach())\n",
    "\n",
    "step()"
   ]
  },
  {
   "cell_type": "code",
   "execution_count": 12,
   "metadata": {},
   "outputs": [
    {
     "name": "stdout",
     "output_type": "stream",
     "text": [
      "jah.\n",
      "ja.\n",
      "kannn.\n",
      "kayruqerarmban.\n",
      "pke.\n",
      "ran.\n",
      "ga.\n",
      "pidrylla.\n",
      "cza.\n",
      "agucn.\n"
     ]
    }
   ],
   "source": [
    "# inference\n",
    "import numpy as np\n",
    "\n",
    "for _ in range(10):\n",
    "    out = []\n",
    "    i = 0\n",
    "    while True:\n",
    "        # p = P[i]\n",
    "        # i = np.random.choice(range(27), p=p.numpy()).item()\n",
    "        # out.append(decode[i])\n",
    "\n",
    "        # forward\n",
    "        xe = Tensor([i]).one_hot(27).float()\n",
    "        logits = xe @ W\n",
    "        counts = logits.exp()\n",
    "        probs = counts / counts.sum(1, keepdim=True)\n",
    "\n",
    "        # sample\n",
    "        i = np.random.choice(range(27), p=probs.numpy().squeeze())\n",
    "        out.append(decode[i])\n",
    "        if i == 0: break\n",
    "\n",
    "    print(''.join(out))"
   ]
  }
 ],
 "metadata": {
  "kernelspec": {
   "display_name": ".venv",
   "language": "python",
   "name": "python3"
  },
  "language_info": {
   "codemirror_mode": {
    "name": "ipython",
    "version": 3
   },
   "file_extension": ".py",
   "mimetype": "text/x-python",
   "name": "python",
   "nbconvert_exporter": "python",
   "pygments_lexer": "ipython3",
   "version": "3.12.7"
  }
 },
 "nbformat": 4,
 "nbformat_minor": 2
}
